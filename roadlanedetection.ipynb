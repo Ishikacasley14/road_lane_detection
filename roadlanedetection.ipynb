{
 "cells": [
  {
   "cell_type": "code",
   "execution_count": 5,
   "id": "20365623-2c3e-49ad-8a2c-9af4d0754c13",
   "metadata": {},
   "outputs": [
    {
     "name": "stderr",
     "output_type": "stream",
     "text": [
      "C:\\Users\\ishik\\anaconda3\\Lib\\site-packages\\numpy\\lib\\function_base.py:518: RuntimeWarning: Mean of empty slice.\n",
      "  avg = a.mean(axis, **keepdims_kw)\n",
      "C:\\Users\\ishik\\anaconda3\\Lib\\site-packages\\numpy\\core\\_methods.py:192: RuntimeWarning: invalid value encountered in scalar divide\n",
      "  ret = ret.dtype.type(ret / rcount)\n"
     ]
    },
    {
     "ename": "error",
     "evalue": "OpenCV(4.8.1) :-1: error: (-5:Bad argument) in function 'cvtColor'\n> Overload resolution failed:\n>  - src data type = 17 is not supported\n>  - Expected Ptr<cv::UMat> for argument 'src'\n",
     "output_type": "error",
     "traceback": [
      "\u001b[1;31m---------------------------------------------------------------------------\u001b[0m",
      "\u001b[1;31merror\u001b[0m                                     Traceback (most recent call last)",
      "Cell \u001b[1;32mIn[5], line 67\u001b[0m\n\u001b[0;32m     64\u001b[0m _, frame \u001b[38;5;241m=\u001b[39m cap\u001b[38;5;241m.\u001b[39mread()\n\u001b[0;32m     65\u001b[0m lane_img \u001b[38;5;241m=\u001b[39m np\u001b[38;5;241m.\u001b[39mcopy(frame)\n\u001b[1;32m---> 67\u001b[0m canny_img \u001b[38;5;241m=\u001b[39m \u001b[43mcanny\u001b[49m\u001b[43m(\u001b[49m\u001b[43mlane_img\u001b[49m\u001b[43m)\u001b[49m\n\u001b[0;32m     68\u001b[0m cropped_img \u001b[38;5;241m=\u001b[39m region_of_interest(canny_img)\n\u001b[0;32m     70\u001b[0m lines \u001b[38;5;241m=\u001b[39m hough_lines(cropped_img)\n",
      "Cell \u001b[1;32mIn[5], line 7\u001b[0m, in \u001b[0;36mcanny\u001b[1;34m(image)\u001b[0m\n\u001b[0;32m      6\u001b[0m \u001b[38;5;28;01mdef\u001b[39;00m \u001b[38;5;21mcanny\u001b[39m(image):\n\u001b[1;32m----> 7\u001b[0m     gray_img \u001b[38;5;241m=\u001b[39m \u001b[43mcv2\u001b[49m\u001b[38;5;241;43m.\u001b[39;49m\u001b[43mcvtColor\u001b[49m\u001b[43m(\u001b[49m\u001b[43mimage\u001b[49m\u001b[43m,\u001b[49m\u001b[43m \u001b[49m\u001b[43mcv2\u001b[49m\u001b[38;5;241;43m.\u001b[39;49m\u001b[43mCOLOR_RGB2GRAY\u001b[49m\u001b[43m)\u001b[49m\n\u001b[0;32m      8\u001b[0m     blur_img \u001b[38;5;241m=\u001b[39m cv2\u001b[38;5;241m.\u001b[39mGaussianBlur(gray_img, (\u001b[38;5;241m5\u001b[39m, \u001b[38;5;241m5\u001b[39m), \u001b[38;5;241m0\u001b[39m)\n\u001b[0;32m      9\u001b[0m     canny \u001b[38;5;241m=\u001b[39m cv2\u001b[38;5;241m.\u001b[39mCanny(blur_img, \u001b[38;5;241m50\u001b[39m, \u001b[38;5;241m150\u001b[39m)\n",
      "\u001b[1;31merror\u001b[0m: OpenCV(4.8.1) :-1: error: (-5:Bad argument) in function 'cvtColor'\n> Overload resolution failed:\n>  - src data type = 17 is not supported\n>  - Expected Ptr<cv::UMat> for argument 'src'\n"
     ]
    }
   ],
   "source": [
    "import cv2\n",
    "\n",
    "import numpy as np\n",
    "import matplotlib.pyplot as plt\n",
    "\n",
    "def canny(image):\n",
    "    gray_img = cv2.cvtColor(image, cv2.COLOR_RGB2GRAY)\n",
    "    blur_img = cv2.GaussianBlur(gray_img, (5, 5), 0)\n",
    "    canny = cv2.Canny(blur_img, 50, 150)\n",
    "    return canny\n",
    "\n",
    "def region_of_interest(image):\n",
    "    height = image.shape[0]\n",
    "    polygons = np.array([[(200, height), (1100, height),\n",
    "                          (600, 280)]])\n",
    "    mask = np.zeros_like(image)\n",
    "    cv2.fillPoly(mask, polygons, 255)\n",
    "    masked_img = cv2.bitwise_and(image, mask)\n",
    "    return masked_img\n",
    "\n",
    "def hough_lines(image):\n",
    "    lines = cv2.HoughLinesP(image, 2, np.pi / 180, 100, np.array([]), minLineLength=40, maxLineGap=10)\n",
    "    return lines\n",
    "def display_lines(image, lines):\n",
    "    line_image = np.zeros_like(image)\n",
    "    if lines is not None:\n",
    "        for line in lines:\n",
    "            x1,y1,x2,y2 = line.reshape(4)\n",
    "            cv2.line(line_image,(int(x1),int(y1)) , (int(x2),int(y2)),(255,0,0) , 8)\n",
    "    return  line_image\n",
    "\n",
    "def average_slope_intercept(image, lines):\n",
    "    left_fit = []\n",
    "    right_fit = []\n",
    "    for line in lines:\n",
    "        x1, y1, x2, y2 = line.reshape(4)\n",
    "        parameters = np.polyfit((x1, x2), (y1, y2), 1)\n",
    "        slope = parameters[0]\n",
    "        intercept = parameters[1]\n",
    "        if slope < 0:\n",
    "            left_fit.append((slope, intercept))\n",
    "        else:\n",
    "            right_fit.append((slope, intercept))\n",
    "    left_fit_average = np.average(left_fit, axis=0)\n",
    "    right_fit_average = np.average(right_fit, axis=0)\n",
    "    left_line = make_cordinates(image, left_fit_average)\n",
    "    right_line = make_cordinates(image, right_fit_average)\n",
    "    return np.array([left_line, right_line])\n",
    "def make_cordinates(image, line_parameters):\n",
    "    try:\n",
    "        slope, intercept = line_parameters\n",
    "    except TypeError:\n",
    "        slope, intercept = 0.001, 0\n",
    "    y1 = image.shape[0]\n",
    "    y2 = int(y1*(0.5))\n",
    "    x1 = int((y1 - intercept)/slope)\n",
    "    x2 = int((y2 - intercept)/slope)\n",
    "    return np.array([x1, y1, x2, y2])\n",
    "\n",
    "\n",
    "\n",
    "cap = cv2.VideoCapture(\"test_video.mp4\")\n",
    "while(cap.isOpened()):\n",
    "    _, frame = cap.read()\n",
    "    lane_img = np.copy(frame)\n",
    "\n",
    "    canny_img = canny(lane_img)\n",
    "    cropped_img = region_of_interest(canny_img)\n",
    "\n",
    "    lines = hough_lines(cropped_img)\n",
    "    averaged_lines = average_slope_intercept(lane_img, lines)\n",
    "    line_img = display_lines(lane_img, averaged_lines)\n",
    "    combo_img = cv2.addWeighted(lane_img, 0.8, line_img, 1, 1)\n",
    "\n",
    "\n",
    "    cv2.imshow(\"image\", combo_img)\n",
    "\n",
    "    if cv2.waitKey(1) & 0xFF == ord('q'):\n",
    "        break\n",
    "cap.release()\n",
    "cap.destroyAllWindows()\n",
    "\n"
   ]
  },
  {
   "cell_type": "code",
   "execution_count": null,
   "id": "349405f1-8f7d-41b2-8099-641bbe70fbb1",
   "metadata": {},
   "outputs": [],
   "source": []
  }
 ],
 "metadata": {
  "kernelspec": {
   "display_name": "Python 3 (ipykernel)",
   "language": "python",
   "name": "python3"
  },
  "language_info": {
   "codemirror_mode": {
    "name": "ipython",
    "version": 3
   },
   "file_extension": ".py",
   "mimetype": "text/x-python",
   "name": "python",
   "nbconvert_exporter": "python",
   "pygments_lexer": "ipython3",
   "version": "3.11.5"
  }
 },
 "nbformat": 4,
 "nbformat_minor": 5
}
